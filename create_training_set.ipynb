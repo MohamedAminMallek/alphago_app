{
 "cells": [
  {
   "cell_type": "code",
   "execution_count": 2,
   "metadata": {},
   "outputs": [],
   "source": [
    "import numpy as np\n",
    "\n",
    "import Go_Board\n",
    "import time\n",
    "import random\n",
    "import MCTS_GO\n",
    "\n",
    "from sgfmill import sgf\n",
    "\n",
    "import pandas as pd\n",
    "\n",
    "import tensorflow as tf\n",
    "\n",
    "from tensorflow.keras import datasets, layers, models"
   ]
  },
  {
   "cell_type": "code",
   "execution_count": 3,
   "metadata": {},
   "outputs": [],
   "source": [
    "X = []\n",
    "Y = []"
   ]
  },
  {
   "cell_type": "code",
   "execution_count": 4,
   "metadata": {},
   "outputs": [],
   "source": [
    "dataset_dir = './go9-large/'#dataset/sgf/train/0000/'\n",
    "\n",
    "from os import listdir\n",
    "from os.path import isfile, join\n",
    "examples = [f for f in listdir(dataset_dir) if isfile(join(dataset_dir, f))]\n",
    "\n",
    "#example = '2014-12-12T14:25:20.109Z_ls125rvjkot8.sgf'\n",
    "board_size = 9\n",
    "examples = examples[:100]"
   ]
  },
  {
   "cell_type": "code",
   "execution_count": 5,
   "metadata": {},
   "outputs": [],
   "source": [
    "for example in examples:\n",
    "    board_go = Go_Board.Our_Board(board_size=board_size)\n",
    "    with open(dataset_dir+example, \"rb\") as f:\n",
    "        game = sgf.Sgf_game.from_bytes(f.read())\n",
    "    winner = game.get_winner()\n",
    "    board_size = game.get_size()\n",
    "    root_node = game.get_root()\n",
    "\n",
    "    board = np.zeros(shape=(board_size,board_size))\n",
    "\n",
    "    for node in game.get_main_sequence():\n",
    "\n",
    "        if node.get_move()[0] is not None:\n",
    "            move = node.get_move()\n",
    "            player = move[0]\n",
    "            coord = (move[1][1],move[1][0]) if move[1] is not None else (-1,-1)\n",
    "\n",
    "            board  = board_go.get_matrix()\n",
    "\n",
    "            y = np.zeros(shape=(board_size,board_size))\n",
    "            if(coord[0] != -1 and coord[1] != -1):\n",
    "                y[coord[0]][coord[1]] = 1\n",
    "                y = y.reshape(board_size*board_size)\n",
    "                y = np.append(y,[0])\n",
    "            else:\n",
    "                y = np.append(y,[1])\n",
    "\n",
    "            x = board * -1 if player == 'w' else board\n",
    "            board_go.push(coord)\n",
    "            X.append(x)\n",
    "            Y.append(y)"
   ]
  },
  {
   "cell_type": "code",
   "execution_count": 6,
   "metadata": {},
   "outputs": [],
   "source": [
    "X = np.reshape(X,(len(X),board_size,board_size,1))"
   ]
  },
  {
   "cell_type": "code",
   "execution_count": 7,
   "metadata": {},
   "outputs": [
    {
     "data": {
      "text/plain": [
       "(4616, 9, 9, 1)"
      ]
     },
     "execution_count": 7,
     "metadata": {},
     "output_type": "execute_result"
    }
   ],
   "source": [
    "np.shape(X)"
   ]
  },
  {
   "cell_type": "code",
   "execution_count": 8,
   "metadata": {},
   "outputs": [],
   "source": [
    "Y = tf.keras.utils.to_categorical(Y,num_classes=82)"
   ]
  },
  {
   "cell_type": "code",
   "execution_count": 9,
   "metadata": {},
   "outputs": [
    {
     "data": {
      "text/plain": [
       "(4616, 82, 82)"
      ]
     },
     "execution_count": 9,
     "metadata": {},
     "output_type": "execute_result"
    }
   ],
   "source": [
    "np.shape(Y)"
   ]
  },
  {
   "cell_type": "code",
   "execution_count": 10,
   "metadata": {},
   "outputs": [],
   "source": [
    "model = models.Sequential()\n",
    "model.add(layers.Conv2D(32, (3, 3), activation='relu', input_shape=(9, 9, 1)))\n",
    "model.add(layers.MaxPooling2D((2, 2)))\n",
    "\"\"\"\n",
    "model.add(layers.Conv2D(64, (3, 3), activation='relu'))\n",
    "model.add(layers.MaxPooling2D((2, 2)))\n",
    "model.add(layers.Conv2D(64, (3, 3), activation='relu'))\n",
    "\"\"\"\n",
    "model.add(layers.Flatten())\n",
    "model.add(layers.Dense(64, activation='relu'))\n",
    "model.add(layers.Dense(82, activation='softmax'))\n"
   ]
  },
  {
   "cell_type": "code",
   "execution_count": null,
   "metadata": {},
   "outputs": [
    {
     "name": "stdout",
     "output_type": "stream",
     "text": [
      "WARNING:tensorflow:Layer conv2d is casting an input tensor from dtype float64 to the layer's dtype of float32, which is new behavior in TensorFlow 2.  The layer has dtype float32 because it's dtype defaults to floatx.\n",
      "\n",
      "If you intended to run this layer in float32, you can safely ignore this warning. If in doubt, this warning is likely only an issue if you are porting a TensorFlow 1.X model to TensorFlow 2.\n",
      "\n",
      "To change all layers to have dtype float64 by default, call `tf.keras.backend.set_floatx('float64')`. To change just this layer, pass dtype='float64' to the layer constructor. If you are the author of this layer, you can disable autocasting by passing autocast=False to the base Layer constructor.\n",
      "\n"
     ]
    }
   ],
   "source": [
    "model(X[0])"
   ]
  },
  {
   "cell_type": "code",
   "execution_count": null,
   "metadata": {},
   "outputs": [],
   "source": [
    "model.compile(optimizer='adam',\n",
    "              loss='sparse_categorical_crossentropy',\n",
    "              metrics=['accuracy'])\n",
    "\n",
    "history = model.fit(X, Y, epochs=10)\n"
   ]
  }
 ],
 "metadata": {
  "kernelspec": {
   "display_name": "Python 3",
   "language": "python",
   "name": "python3"
  },
  "language_info": {
   "codemirror_mode": {
    "name": "ipython",
    "version": 3
   },
   "file_extension": ".py",
   "mimetype": "text/x-python",
   "name": "python",
   "nbconvert_exporter": "python",
   "pygments_lexer": "ipython3",
   "version": "3.7.5"
  }
 },
 "nbformat": 4,
 "nbformat_minor": 2
}

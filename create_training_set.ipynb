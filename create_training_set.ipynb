{
 "cells": [
  {
   "cell_type": "code",
   "execution_count": 43,
   "metadata": {},
   "outputs": [
    {
     "ename": "ModuleNotFoundError",
     "evalue": "No module named 'tensorflow'",
     "output_type": "error",
     "traceback": [
      "\u001b[0;31m---------------------------------------------------------------------------\u001b[0m",
      "\u001b[0;31mModuleNotFoundError\u001b[0m                       Traceback (most recent call last)",
      "\u001b[0;32m<ipython-input-43-f91ff5c79d10>\u001b[0m in \u001b[0;36m<module>\u001b[0;34m()\u001b[0m\n\u001b[1;32m     10\u001b[0m \u001b[0;32mimport\u001b[0m \u001b[0mpandas\u001b[0m \u001b[0;32mas\u001b[0m \u001b[0mpd\u001b[0m\u001b[0;34m\u001b[0m\u001b[0;34m\u001b[0m\u001b[0m\n\u001b[1;32m     11\u001b[0m \u001b[0;34m\u001b[0m\u001b[0m\n\u001b[0;32m---> 12\u001b[0;31m \u001b[0;32mimport\u001b[0m \u001b[0mtensorflow\u001b[0m \u001b[0;32mas\u001b[0m \u001b[0mtf\u001b[0m\u001b[0;34m\u001b[0m\u001b[0;34m\u001b[0m\u001b[0m\n\u001b[0m\u001b[1;32m     13\u001b[0m \u001b[0;34m\u001b[0m\u001b[0m\n\u001b[1;32m     14\u001b[0m \u001b[0;32mfrom\u001b[0m \u001b[0mtensorflow\u001b[0m\u001b[0;34m.\u001b[0m\u001b[0mkeras\u001b[0m \u001b[0;32mimport\u001b[0m \u001b[0mdatasets\u001b[0m\u001b[0;34m,\u001b[0m \u001b[0mlayers\u001b[0m\u001b[0;34m,\u001b[0m \u001b[0mmodels\u001b[0m\u001b[0;34m\u001b[0m\u001b[0;34m\u001b[0m\u001b[0m\n",
      "\u001b[0;31mModuleNotFoundError\u001b[0m: No module named 'tensorflow'"
     ]
    }
   ],
   "source": [
    "import numpy as np\n",
    "\n",
    "import Go_Board\n",
    "import time\n",
    "import random\n",
    "import MCTS_GO\n",
    "\n",
    "from sgfmill import sgf\n",
    "\n",
    "import pandas as pd\n",
    "\n",
    "import tensorflow as tf\n",
    "\n",
    "from tensorflow.keras import datasets, layers, models"
   ]
  },
  {
   "cell_type": "code",
   "execution_count": 15,
   "metadata": {},
   "outputs": [],
   "source": [
    "X = []\n",
    "Y = []"
   ]
  },
  {
   "cell_type": "code",
   "execution_count": 28,
   "metadata": {},
   "outputs": [],
   "source": [
    "dataset_dir = './go9-large/'#dataset/sgf/train/0000/'\n",
    "\n",
    "from os import listdir\n",
    "from os.path import isfile, join\n",
    "examples = [f for f in listdir(dataset_dir) if isfile(join(dataset_dir, f))]\n",
    "\n",
    "#example = '2014-12-12T14:25:20.109Z_ls125rvjkot8.sgf'\n",
    "board_size = 9\n",
    "examples = examples[:100]"
   ]
  },
  {
   "cell_type": "code",
   "execution_count": 29,
   "metadata": {},
   "outputs": [],
   "source": [
    "for example in examples:\n",
    "    board_go = Go_Board.Our_Board(board_size=board_size)\n",
    "    with open(dataset_dir+example, \"rb\") as f:\n",
    "        game = sgf.Sgf_game.from_bytes(f.read())\n",
    "    winner = game.get_winner()\n",
    "    board_size = game.get_size()\n",
    "    root_node = game.get_root()\n",
    "\n",
    "    board = np.zeros(shape=(board_size,board_size),dtype=int)\n",
    "\n",
    "    for node in game.get_main_sequence():\n",
    "\n",
    "        if node.get_move()[0] is not None:\n",
    "            move = node.get_move()\n",
    "            player = move[0]\n",
    "            coord = (move[1][1],move[1][0]) if move[1] is not None else (-1,-1)\n",
    "\n",
    "            board  = board_go.get_matrix()\n",
    "\n",
    "            y = np.zeros(shape=(board_size,board_size),dtype=int)\n",
    "            if(coord[0] != -1 and coord[1] != -1):\n",
    "                y[coord[0]][coord[1]] = 1\n",
    "                y = y.reshape(board_size*board_size)\n",
    "                y = np.append(y,[0])\n",
    "            else:\n",
    "                y = np.append(y,[1])\n",
    "\n",
    "            x = board * -1 if player == 'w' else board\n",
    "            board_go.push(coord)\n",
    "            X.append(x)\n",
    "            Y.append(y)"
   ]
  },
  {
   "cell_type": "code",
   "execution_count": 34,
   "metadata": {},
   "outputs": [
    {
     "data": {
      "text/plain": [
       "(9, 9, 355190)"
      ]
     },
     "execution_count": 34,
     "metadata": {},
     "output_type": "execute_result"
    }
   ],
   "source": [
    "np.reshape(X,(board_size,board_size,len(X))).shape"
   ]
  },
  {
   "cell_type": "code",
   "execution_count": 35,
   "metadata": {},
   "outputs": [
    {
     "data": {
      "text/plain": [
       "(355190, 9, 9)"
      ]
     },
     "execution_count": 35,
     "metadata": {},
     "output_type": "execute_result"
    }
   ],
   "source": [
    "np.shape(X)"
   ]
  },
  {
   "cell_type": "code",
   "execution_count": 36,
   "metadata": {},
   "outputs": [
    {
     "data": {
      "text/plain": [
       "(355190, 82)"
      ]
     },
     "execution_count": 36,
     "metadata": {},
     "output_type": "execute_result"
    }
   ],
   "source": [
    "np.shape(Y)"
   ]
  },
  {
   "cell_type": "code",
   "execution_count": 41,
   "metadata": {},
   "outputs": [
    {
     "data": {
      "text/plain": [
       "array([[ 0,  0,  0,  0,  0,  0,  0,  0,  0],\n",
       "       [ 0,  0,  0,  0,  0, -1,  0,  0,  0],\n",
       "       [ 0,  0,  0,  0,  0,  0,  0,  0,  0],\n",
       "       [-1,  0,  1,  0,  0,  0,  0,  0,  0],\n",
       "       [ 0,  0,  0,  0,  0, -1,  0,  0,  0],\n",
       "       [ 0,  0,  0,  1,  0,  0,  0,  0,  0],\n",
       "       [ 0,  0,  0,  0,  0,  0,  0,  0,  0],\n",
       "       [ 0,  0,  0,  0,  0,  0,  0,  0,  0],\n",
       "       [ 0,  0,  0,  0,  0,  0,  0,  0,  0]])"
      ]
     },
     "execution_count": 41,
     "metadata": {},
     "output_type": "execute_result"
    }
   ],
   "source": [
    "model = models.Sequential()\n",
    "model.add(layers.Conv2D(32, (3, 3), activation='relu', input_shape=(32, 32, 3)))\n",
    "model.add(layers.MaxPooling2D((2, 2)))\n",
    "model.add(layers.Conv2D(64, (3, 3), activation='relu'))\n",
    "model.add(layers.MaxPooling2D((2, 2)))\n",
    "model.add(layers.Conv2D(64, (3, 3), activation='relu'))\n",
    "model.add(layers.Flatten())\n",
    "model.add(layers.Dense(64, activation='relu'))\n",
    "model.add(layers.Dense(10, activation='softmax'))\n"
   ]
  },
  {
   "cell_type": "code",
   "execution_count": 39,
   "metadata": {},
   "outputs": [
    {
     "data": {
      "text/html": [
       "<div>\n",
       "<style scoped>\n",
       "    .dataframe tbody tr th:only-of-type {\n",
       "        vertical-align: middle;\n",
       "    }\n",
       "\n",
       "    .dataframe tbody tr th {\n",
       "        vertical-align: top;\n",
       "    }\n",
       "\n",
       "    .dataframe thead th {\n",
       "        text-align: right;\n",
       "    }\n",
       "</style>\n",
       "<table border=\"1\" class=\"dataframe\">\n",
       "  <thead>\n",
       "    <tr style=\"text-align: right;\">\n",
       "      <th></th>\n",
       "      <th>0</th>\n",
       "      <th>1</th>\n",
       "      <th>2</th>\n",
       "      <th>3</th>\n",
       "      <th>4</th>\n",
       "      <th>5</th>\n",
       "      <th>6</th>\n",
       "      <th>7</th>\n",
       "      <th>8</th>\n",
       "      <th>9</th>\n",
       "      <th>...</th>\n",
       "      <th>355180</th>\n",
       "      <th>355181</th>\n",
       "      <th>355182</th>\n",
       "      <th>355183</th>\n",
       "      <th>355184</th>\n",
       "      <th>355185</th>\n",
       "      <th>355186</th>\n",
       "      <th>355187</th>\n",
       "      <th>355188</th>\n",
       "      <th>355189</th>\n",
       "    </tr>\n",
       "  </thead>\n",
       "  <tbody>\n",
       "    <tr>\n",
       "      <th>0</th>\n",
       "      <td>[[0, 0, 0, 0, 0, 0, 0, 0, 0], [0, 0, 0, 0, 0, ...</td>\n",
       "      <td>[[0, 0, 0, 0, 0, 0, 0, 0, 0], [0, 0, 0, 0, 0, ...</td>\n",
       "      <td>[[0, 0, 0, 0, 0, 0, 0, 0, 0], [0, 0, 0, 0, 0, ...</td>\n",
       "      <td>[[0, 0, 0, 0, 0, 0, 0, 0, 0], [0, 0, 0, 0, 0, ...</td>\n",
       "      <td>[[0, 0, 0, 0, 0, 0, 0, 0, 0], [0, 0, 0, 0, 0, ...</td>\n",
       "      <td>[[0, 0, 0, 0, 0, 0, 0, 0, 0], [0, 0, 0, 0, 0, ...</td>\n",
       "      <td>[[0, 0, 0, 0, 0, 0, 0, 0, 0], [0, 0, 0, 0, -1,...</td>\n",
       "      <td>[[0, 0, 0, 0, 0, 0, 0, 0, 0], [0, 0, 0, 0, 1, ...</td>\n",
       "      <td>[[0, 0, 0, 0, 0, 0, 0, 0, 0], [0, 0, 0, 0, -1,...</td>\n",
       "      <td>[[0, 0, 0, 0, 0, 0, 0, 0, 0], [0, 0, 0, 0, 1, ...</td>\n",
       "      <td>...</td>\n",
       "      <td>[[0, 0, 0, 0, -1, 0, 0, 0, 0], [0, -1, 0, 1, -...</td>\n",
       "      <td>[[0, 0, 0, 0, 1, 0, 0, 0, 0], [0, 1, 0, -1, 1,...</td>\n",
       "      <td>[[0, 0, 0, 0, -1, 0, 0, 0, 0], [0, -1, 0, 1, -...</td>\n",
       "      <td>[[0, 0, 0, 0, 1, -1, 0, 0, 0], [0, 1, 0, -1, 1...</td>\n",
       "      <td>[[0, 0, 0, -1, -1, 1, 0, 0, 0], [0, -1, 0, 1, ...</td>\n",
       "      <td>[[0, 0, 0, 1, 1, -1, 0, 0, 0], [0, 1, -1, -1, ...</td>\n",
       "      <td>[[0, 0, 0, -1, -1, 1, 0, 0, 0], [0, -1, 1, 1, ...</td>\n",
       "      <td>[[0, 0, 0, 1, 1, -1, 0, 0, 0], [0, 1, -1, -1, ...</td>\n",
       "      <td>[[0, 0, -1, -1, -1, 1, 0, 0, 0], [0, -1, 1, 1,...</td>\n",
       "      <td>[[0, -1, 0, 0, 0, -1, 0, 0, 0], [0, 1, -1, -1,...</td>\n",
       "    </tr>\n",
       "  </tbody>\n",
       "</table>\n",
       "<p>1 rows × 355190 columns</p>\n",
       "</div>"
      ],
      "text/plain": [
       "                                              0       \\\n",
       "0  [[0, 0, 0, 0, 0, 0, 0, 0, 0], [0, 0, 0, 0, 0, ...   \n",
       "\n",
       "                                              1       \\\n",
       "0  [[0, 0, 0, 0, 0, 0, 0, 0, 0], [0, 0, 0, 0, 0, ...   \n",
       "\n",
       "                                              2       \\\n",
       "0  [[0, 0, 0, 0, 0, 0, 0, 0, 0], [0, 0, 0, 0, 0, ...   \n",
       "\n",
       "                                              3       \\\n",
       "0  [[0, 0, 0, 0, 0, 0, 0, 0, 0], [0, 0, 0, 0, 0, ...   \n",
       "\n",
       "                                              4       \\\n",
       "0  [[0, 0, 0, 0, 0, 0, 0, 0, 0], [0, 0, 0, 0, 0, ...   \n",
       "\n",
       "                                              5       \\\n",
       "0  [[0, 0, 0, 0, 0, 0, 0, 0, 0], [0, 0, 0, 0, 0, ...   \n",
       "\n",
       "                                              6       \\\n",
       "0  [[0, 0, 0, 0, 0, 0, 0, 0, 0], [0, 0, 0, 0, -1,...   \n",
       "\n",
       "                                              7       \\\n",
       "0  [[0, 0, 0, 0, 0, 0, 0, 0, 0], [0, 0, 0, 0, 1, ...   \n",
       "\n",
       "                                              8       \\\n",
       "0  [[0, 0, 0, 0, 0, 0, 0, 0, 0], [0, 0, 0, 0, -1,...   \n",
       "\n",
       "                                              9       ...  \\\n",
       "0  [[0, 0, 0, 0, 0, 0, 0, 0, 0], [0, 0, 0, 0, 1, ...  ...   \n",
       "\n",
       "                                              355180  \\\n",
       "0  [[0, 0, 0, 0, -1, 0, 0, 0, 0], [0, -1, 0, 1, -...   \n",
       "\n",
       "                                              355181  \\\n",
       "0  [[0, 0, 0, 0, 1, 0, 0, 0, 0], [0, 1, 0, -1, 1,...   \n",
       "\n",
       "                                              355182  \\\n",
       "0  [[0, 0, 0, 0, -1, 0, 0, 0, 0], [0, -1, 0, 1, -...   \n",
       "\n",
       "                                              355183  \\\n",
       "0  [[0, 0, 0, 0, 1, -1, 0, 0, 0], [0, 1, 0, -1, 1...   \n",
       "\n",
       "                                              355184  \\\n",
       "0  [[0, 0, 0, -1, -1, 1, 0, 0, 0], [0, -1, 0, 1, ...   \n",
       "\n",
       "                                              355185  \\\n",
       "0  [[0, 0, 0, 1, 1, -1, 0, 0, 0], [0, 1, -1, -1, ...   \n",
       "\n",
       "                                              355186  \\\n",
       "0  [[0, 0, 0, -1, -1, 1, 0, 0, 0], [0, -1, 1, 1, ...   \n",
       "\n",
       "                                              355187  \\\n",
       "0  [[0, 0, 0, 1, 1, -1, 0, 0, 0], [0, 1, -1, -1, ...   \n",
       "\n",
       "                                              355188  \\\n",
       "0  [[0, 0, -1, -1, -1, 1, 0, 0, 0], [0, -1, 1, 1,...   \n",
       "\n",
       "                                              355189  \n",
       "0  [[0, -1, 0, 0, 0, -1, 0, 0, 0], [0, 1, -1, -1,...  \n",
       "\n",
       "[1 rows x 355190 columns]"
      ]
     },
     "execution_count": 39,
     "metadata": {},
     "output_type": "execute_result"
    }
   ],
   "source": [
    "df"
   ]
  }
 ],
 "metadata": {
  "kernelspec": {
   "display_name": "Python 3",
   "language": "python",
   "name": "python3"
  },
  "language_info": {
   "codemirror_mode": {
    "name": "ipython",
    "version": 3
   },
   "file_extension": ".py",
   "mimetype": "text/x-python",
   "name": "python",
   "nbconvert_exporter": "python",
   "pygments_lexer": "ipython3",
   "version": "3.6.9"
  }
 },
 "nbformat": 4,
 "nbformat_minor": 2
}
